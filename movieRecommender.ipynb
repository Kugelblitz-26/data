{
  "cells": [
    {
      "cell_type": "markdown",
      "metadata": {
        "id": "view-in-github",
        "colab_type": "text"
      },
      "source": [
        "<a href=\"https://colab.research.google.com/github/Kugelblitz-26/data/blob/main/movieRecommender.ipynb\" target=\"_parent\"><img src=\"https://colab.research.google.com/assets/colab-badge.svg\" alt=\"Open In Colab\"/></a>"
      ]
    },
    {
      "cell_type": "code",
      "execution_count": null,
      "id": "65ab5199",
      "metadata": {
        "id": "65ab5199"
      },
      "outputs": [],
      "source": [
        "import numpy as np\n",
        "import pandas as pd\n",
        "import difflib\n",
        "from sklearn.feature_extraction.text import TfidfVectorizer\n",
        "from sklearn.metrics.pairwise import cosine_similarity\n",
        "import os\n",
        "\n",
        "# Set the working directory to the dataset location\n",
        "\n",
        "\n",
        "# Load the movie dataset\n",
        "movies_data = pd.read_csv('movies.csv')\n"
      ]
    },
    {
      "cell_type": "code",
      "execution_count": null,
      "id": "ac851555",
      "metadata": {
        "id": "ac851555",
        "outputId": "9de524df-2c17-44f5-a4da-bebca561deda"
      },
      "outputs": [
        {
          "name": "stdout",
          "output_type": "stream",
          "text": [
            "<class 'pandas.core.frame.DataFrame'>\n",
            "RangeIndex: 4803 entries, 0 to 4802\n",
            "Data columns (total 24 columns):\n",
            " #   Column                Non-Null Count  Dtype  \n",
            "---  ------                --------------  -----  \n",
            " 0   index                 4803 non-null   int64  \n",
            " 1   budget                4803 non-null   int64  \n",
            " 2   genres                4803 non-null   object \n",
            " 3   homepage              1712 non-null   object \n",
            " 4   id                    4803 non-null   int64  \n",
            " 5   keywords              4803 non-null   object \n",
            " 6   original_language     4803 non-null   object \n",
            " 7   original_title        4803 non-null   object \n",
            " 8   overview              4800 non-null   object \n",
            " 9   popularity            4803 non-null   float64\n",
            " 10  production_companies  4803 non-null   object \n",
            " 11  production_countries  4803 non-null   object \n",
            " 12  release_date          4802 non-null   object \n",
            " 13  revenue               4803 non-null   int64  \n",
            " 14  runtime               4801 non-null   float64\n",
            " 15  spoken_languages      4803 non-null   object \n",
            " 16  status                4803 non-null   object \n",
            " 17  tagline               4803 non-null   object \n",
            " 18  title                 4803 non-null   object \n",
            " 19  vote_average          4803 non-null   float64\n",
            " 20  vote_count            4803 non-null   int64  \n",
            " 21  cast                  4803 non-null   object \n",
            " 22  crew                  4803 non-null   object \n",
            " 23  director              4803 non-null   object \n",
            "dtypes: float64(3), int64(5), object(16)\n",
            "memory usage: 900.7+ KB\n",
            "Dataset Shape: (4803, 24)\n",
            "Column Names: Index(['index', 'budget', 'genres', 'homepage', 'id', 'keywords',\n",
            "       'original_language', 'original_title', 'overview', 'popularity',\n",
            "       'production_companies', 'production_countries', 'release_date',\n",
            "       'revenue', 'runtime', 'spoken_languages', 'status', 'tagline', 'title',\n",
            "       'vote_average', 'vote_count', 'cast', 'crew', 'director'],\n",
            "      dtype='object')\n",
            "Sample Data:\n",
            "   index     budget                                    genres  \\\n",
            "0      0  237000000  Action Adventure Fantasy Science Fiction   \n",
            "1      1  300000000                  Adventure Fantasy Action   \n",
            "2      2  245000000                    Action Adventure Crime   \n",
            "3      3  250000000               Action Crime Drama Thriller   \n",
            "4      4  260000000          Action Adventure Science Fiction   \n",
            "\n",
            "                                       homepage      id  \\\n",
            "0                   http://www.avatarmovie.com/   19995   \n",
            "1  http://disney.go.com/disneypictures/pirates/     285   \n",
            "2   http://www.sonypictures.com/movies/spectre/  206647   \n",
            "3            http://www.thedarkknightrises.com/   49026   \n",
            "4          http://movies.disney.com/john-carter   49529   \n",
            "\n",
            "                                            keywords original_language  \\\n",
            "0  culture clash future space war space colony so...                en   \n",
            "1  ocean drug abuse exotic island east india trad...                en   \n",
            "2         spy based on novel secret agent sequel mi6                en   \n",
            "3  dc comics crime fighter terrorist secret ident...                en   \n",
            "4  based on novel mars medallion space travel pri...                en   \n",
            "\n",
            "                             original_title  \\\n",
            "0                                    Avatar   \n",
            "1  Pirates of the Caribbean: At World's End   \n",
            "2                                   Spectre   \n",
            "3                     The Dark Knight Rises   \n",
            "4                               John Carter   \n",
            "\n",
            "                                            overview  popularity  ... runtime  \\\n",
            "0  In the 22nd century, a paraplegic Marine is di...  150.437577  ...   162.0   \n",
            "1  Captain Barbossa, long believed to be dead, ha...  139.082615  ...   169.0   \n",
            "2  A cryptic message from Bond’s past sends him o...  107.376788  ...   148.0   \n",
            "3  Following the death of District Attorney Harve...  112.312950  ...   165.0   \n",
            "4  John Carter is a war-weary, former military ca...   43.926995  ...   132.0   \n",
            "\n",
            "                                    spoken_languages    status  \\\n",
            "0  [{\"iso_639_1\": \"en\", \"name\": \"English\"}, {\"iso...  Released   \n",
            "1           [{\"iso_639_1\": \"en\", \"name\": \"English\"}]  Released   \n",
            "2  [{\"iso_639_1\": \"fr\", \"name\": \"Fran\\u00e7ais\"},...  Released   \n",
            "3           [{\"iso_639_1\": \"en\", \"name\": \"English\"}]  Released   \n",
            "4           [{\"iso_639_1\": \"en\", \"name\": \"English\"}]  Released   \n",
            "\n",
            "                                          tagline  \\\n",
            "0                     Enter the World of Pandora.   \n",
            "1  At the end of the world, the adventure begins.   \n",
            "2                           A Plan No One Escapes   \n",
            "3                                 The Legend Ends   \n",
            "4            Lost in our world, found in another.   \n",
            "\n",
            "                                      title vote_average vote_count  \\\n",
            "0                                    Avatar          7.2      11800   \n",
            "1  Pirates of the Caribbean: At World's End          6.9       4500   \n",
            "2                                   Spectre          6.3       4466   \n",
            "3                     The Dark Knight Rises          7.6       9106   \n",
            "4                               John Carter          6.1       2124   \n",
            "\n",
            "                                                cast  \\\n",
            "0  Sam Worthington Zoe Saldana Sigourney Weaver S...   \n",
            "1  Johnny Depp Orlando Bloom Keira Knightley Stel...   \n",
            "2  Daniel Craig Christoph Waltz L\\u00e9a Seydoux ...   \n",
            "3  Christian Bale Michael Caine Gary Oldman Anne ...   \n",
            "4  Taylor Kitsch Lynn Collins Samantha Morton Wil...   \n",
            "\n",
            "                                                crew           director  \n",
            "0  [{'name': 'Stephen E. Rivkin', 'gender': 0, 'd...      James Cameron  \n",
            "1  [{'name': 'Dariusz Wolski', 'gender': 2, 'depa...     Gore Verbinski  \n",
            "2  [{'name': 'Thomas Newman', 'gender': 2, 'depar...         Sam Mendes  \n",
            "3  [{'name': 'Hans Zimmer', 'gender': 2, 'departm...  Christopher Nolan  \n",
            "4  [{'name': 'Andrew Stanton', 'gender': 2, 'depa...     Andrew Stanton  \n",
            "\n",
            "[5 rows x 24 columns]\n"
          ]
        }
      ],
      "source": [
        "movies_data.info()\n",
        "print(\"Dataset Shape:\", movies_data.shape)\n",
        "print(\"Column Names:\", movies_data.columns)\n",
        "print(\"Sample Data:\")\n",
        "print(movies_data.head())\n"
      ]
    },
    {
      "cell_type": "code",
      "execution_count": null,
      "id": "35cfa26f",
      "metadata": {
        "id": "35cfa26f"
      },
      "outputs": [],
      "source": [
        "# Handle missing values\n",
        "selected_features = ['genres', 'keywords', 'tagline', 'cast', 'director']\n",
        "for feature in selected_features:\n",
        "    movies_data[feature] = movies_data[feature].fillna('')\n",
        "\n",
        "# Combine selected features\n",
        "combined_features = movies_data['genres'] + ' ' + movies_data['keywords'] + ' ' + movies_data['tagline'] + ' ' + movies_data['cast'] + ' ' + movies_data['director']\n",
        "\n",
        "# Convert text data to feature vectors\n",
        "vectorizer = TfidfVectorizer()\n",
        "feature_vectors = vectorizer.fit_transform(combined_features)\n"
      ]
    },
    {
      "cell_type": "code",
      "execution_count": null,
      "id": "7ffc21f0",
      "metadata": {
        "id": "7ffc21f0"
      },
      "outputs": [],
      "source": [
        "similarity = cosine_similarity(feature_vectors)\n"
      ]
    },
    {
      "cell_type": "code",
      "execution_count": null,
      "id": "608dfcd3",
      "metadata": {
        "id": "608dfcd3"
      },
      "outputs": [],
      "source": [
        "def get_movie_recommendations(movie_name):\n",
        "    # Find the closest match to the input movie name\n",
        "    list_of_all_titles = movies_data['title'].tolist()\n",
        "    find_close_match = difflib.get_close_matches(movie_name, list_of_all_titles)\n",
        "    close_match = find_close_match[0]\n",
        "\n",
        "    # Get the index of the input movie\n",
        "    index_of_the_movie = movies_data[movies_data.title == close_match]['index'].values[0]\n",
        "\n",
        "    # Get the similarity scores for the input movie\n",
        "    similarity_score = list(enumerate(similarity[index_of_the_movie]))\n",
        "\n",
        "    # Sort movies based on similarity score\n",
        "    sorted_similar_movies = sorted(similarity_score, key=lambda x: x[1], reverse=True)\n",
        "\n",
        "    # Return recommended movies\n",
        "    recommended_movies = [movies_data[movies_data.index == movie[0]]['title'].values[0] for movie in sorted_similar_movies[1:31]]\n",
        "\n",
        "    return recommended_movies\n"
      ]
    },
    {
      "cell_type": "code",
      "execution_count": null,
      "id": "9b618f54",
      "metadata": {
        "id": "9b618f54",
        "outputId": "30aa1a39-6bba-49b3-d8ec-09437cdfe3b2"
      },
      "outputs": [
        {
          "name": "stdout",
          "output_type": "stream",
          "text": [
            "Enter your favorite movie name: avatar\n",
            "Movies recommended for you:\n",
            "1. Alien\n",
            "2. Aliens\n",
            "3. Guardians of the Galaxy\n",
            "4. Star Trek Beyond\n",
            "5. Star Trek Into Darkness\n",
            "6. Galaxy Quest\n",
            "7. Alien³\n",
            "8. Cargo\n",
            "9. Trekkies\n",
            "10. Gravity\n",
            "11. Moonraker\n",
            "12. Jason X\n",
            "13. Pocahontas\n",
            "14. Space Cowboys\n",
            "15. The Helix... Loaded\n",
            "16. Lockout\n",
            "17. Event Horizon\n",
            "18. Space Dogs\n",
            "19. Machete Kills\n",
            "20. Gettysburg\n",
            "21. Clash of the Titans\n",
            "22. Star Wars: Clone Wars: Volume 1\n",
            "23. The Right Stuff\n",
            "24. Terminator Salvation\n",
            "25. The Astronaut's Wife\n",
            "26. Planet of the Apes\n",
            "27. Star Trek\n",
            "28. Wing Commander\n",
            "29. Sunshine\n",
            "30. The Terminator\n"
          ]
        }
      ],
      "source": [
        "favorite_movie = input(\"Enter your favorite movie name: \")\n",
        "recommendations = get_movie_recommendations(favorite_movie)\n",
        "print(\"Movies recommended for you:\")\n",
        "for i, movie in enumerate(recommendations, 1):\n",
        "    print(f\"{i}. {movie}\")\n"
      ]
    },
    {
      "cell_type": "code",
      "execution_count": null,
      "id": "579029ee",
      "metadata": {
        "id": "579029ee"
      },
      "outputs": [],
      "source": [
        "import pickle\n",
        "\n",
        "# Save the similarity matrix\n",
        "with open('movie_similarity_matrix.pkl', 'wb') as model_file:\n",
        "    pickle.dump(similarity, model_file)\n",
        "\n",
        "# Load the similarity matrix\n",
        "with open('movie_similarity_matrix.pkl', 'rb') as model_file:\n",
        "    loaded_similarity = pickle.load(model_file)\n"
      ]
    },
    {
      "cell_type": "code",
      "execution_count": null,
      "id": "048bb65e",
      "metadata": {
        "id": "048bb65e"
      },
      "outputs": [],
      "source": []
    }
  ],
  "metadata": {
    "kernelspec": {
      "display_name": "Python 3 (ipykernel)",
      "language": "python",
      "name": "python3"
    },
    "language_info": {
      "codemirror_mode": {
        "name": "ipython",
        "version": 3
      },
      "file_extension": ".py",
      "mimetype": "text/x-python",
      "name": "python",
      "nbconvert_exporter": "python",
      "pygments_lexer": "ipython3",
      "version": "3.11.5"
    },
    "colab": {
      "provenance": [],
      "include_colab_link": true
    }
  },
  "nbformat": 4,
  "nbformat_minor": 5
}