{
  "nbformat": 4,
  "nbformat_minor": 0,
  "metadata": {
    "colab": {
      "provenance": [],
      "authorship_tag": "ABX9TyONtKh2AbaBOMXaSIsDQweM",
      "include_colab_link": true
    },
    "kernelspec": {
      "name": "python3",
      "display_name": "Python 3"
    },
    "language_info": {
      "name": "python"
    }
  },
  "cells": [
    {
      "cell_type": "markdown",
      "metadata": {
        "id": "view-in-github",
        "colab_type": "text"
      },
      "source": [
        "<a href=\"https://colab.research.google.com/github/Kugelblitz-26/data_science_prj/blob/main/NovelRecommender_con.ipynb\" target=\"_parent\"><img src=\"https://colab.research.google.com/assets/colab-badge.svg\" alt=\"Open In Colab\"/></a>"
      ]
    },
    {
      "cell_type": "code",
      "execution_count": 46,
      "metadata": {
        "id": "57pBl_XvYvoj"
      },
      "outputs": [],
      "source": [
        "import pandas as pd\n",
        "import numpy as np\n",
        "import matplotlib.pyplot as plt\n",
        "import seaborn as sns\n",
        "from sklearn.feature_extraction.text import TfidfVectorizer\n",
        "from sklearn.metrics.pairwise import linear_kernel\n"
      ]
    },
    {
      "cell_type": "markdown",
      "source": [],
      "metadata": {
        "id": "ChMlfr766CMC"
      }
    },
    {
      "cell_type": "code",
      "source": [
        "\n",
        "# Load data from a Parquet file into a DataFrame\n",
        "df = pd.read_parquet('train-wn.parquet')\n",
        "df.language.head(99)"
      ],
      "metadata": {
        "colab": {
          "base_uri": "https://localhost:8080/"
        },
        "id": "Tz5FrSqoZugM",
        "outputId": "9b27f61f-63b4-47ed-b878-60b596a283cb"
      },
      "execution_count": 47,
      "outputs": [
        {
          "output_type": "execute_result",
          "data": {
            "text/plain": [
              "0      Chinese\n",
              "1     Japanese\n",
              "2      Chinese\n",
              "3      Chinese\n",
              "4      Chinese\n",
              "        ...   \n",
              "94     Chinese\n",
              "95     Chinese\n",
              "96     Chinese\n",
              "97      Korean\n",
              "98    Japanese\n",
              "Name: language, Length: 99, dtype: object"
            ]
          },
          "metadata": {},
          "execution_count": 47
        }
      ]
    },
    {
      "cell_type": "code",
      "source": [
        "df.info()"
      ],
      "metadata": {
        "id": "FQEPS95RZ6AP",
        "colab": {
          "base_uri": "https://localhost:8080/"
        },
        "outputId": "4d0bc173-87e8-4aca-a933-5d89fc6e2f86"
      },
      "execution_count": 48,
      "outputs": [
        {
          "output_type": "stream",
          "name": "stdout",
          "text": [
            "<class 'pandas.core.frame.DataFrame'>\n",
            "RangeIndex: 11770 entries, 0 to 11769\n",
            "Data columns (total 30 columns):\n",
            " #   Column                      Non-Null Count  Dtype \n",
            "---  ------                      --------------  ----- \n",
            " 0   novel_id                    11770 non-null  int64 \n",
            " 1   url                         11770 non-null  object\n",
            " 2   title                       11770 non-null  object\n",
            " 3   associated_names            11770 non-null  object\n",
            " 4   img_url                     11770 non-null  object\n",
            " 5   showtype                    11770 non-null  object\n",
            " 6   genres                      11770 non-null  object\n",
            " 7   tags                        11770 non-null  object\n",
            " 8   description                 11770 non-null  object\n",
            " 9   related_series              11770 non-null  object\n",
            " 10  recommendations             11770 non-null  object\n",
            " 11  recommendation_lists        11770 non-null  object\n",
            " 12  rating                      11770 non-null  object\n",
            " 13  language                    11723 non-null  object\n",
            " 14  authors                     11770 non-null  object\n",
            " 15  artists                     11770 non-null  object\n",
            " 16  year                        11770 non-null  object\n",
            " 17  status_coo                  11770 non-null  object\n",
            " 18  licensed                    11770 non-null  object\n",
            " 19  translated                  11770 non-null  object\n",
            " 20  publishers                  11770 non-null  object\n",
            " 21  en_pubs                     11770 non-null  object\n",
            " 22  release_frequency           11770 non-null  object\n",
            " 23  weekly_rank                 11770 non-null  object\n",
            " 24  monthly_rank                11770 non-null  object\n",
            " 25  all_time_rank               11770 non-null  object\n",
            " 26  monthly_rank_reading_list   11770 non-null  object\n",
            " 27  all_time_rank_reading_list  11770 non-null  object\n",
            " 28  total_reading_list_rank     11770 non-null  object\n",
            " 29  chapters                    11770 non-null  object\n",
            "dtypes: int64(1), object(29)\n",
            "memory usage: 2.7+ MB\n"
          ]
        }
      ]
    },
    {
      "cell_type": "code",
      "source": [
        "df.columns.values"
      ],
      "metadata": {
        "id": "ZzyrpH0MaArA",
        "colab": {
          "base_uri": "https://localhost:8080/"
        },
        "outputId": "71b3c4e7-f07e-47e5-f173-f951fda83350"
      },
      "execution_count": 49,
      "outputs": [
        {
          "output_type": "execute_result",
          "data": {
            "text/plain": [
              "array(['novel_id', 'url', 'title', 'associated_names', 'img_url',\n",
              "       'showtype', 'genres', 'tags', 'description', 'related_series',\n",
              "       'recommendations', 'recommendation_lists', 'rating', 'language',\n",
              "       'authors', 'artists', 'year', 'status_coo', 'licensed',\n",
              "       'translated', 'publishers', 'en_pubs', 'release_frequency',\n",
              "       'weekly_rank', 'monthly_rank', 'all_time_rank',\n",
              "       'monthly_rank_reading_list', 'all_time_rank_reading_list',\n",
              "       'total_reading_list_rank', 'chapters'], dtype=object)"
            ]
          },
          "metadata": {},
          "execution_count": 49
        }
      ]
    },
    {
      "cell_type": "code",
      "source": [
        "columns_to_remove = ['url', 'associated_names', 'img_url', 'artists', 'licensed', 'translated', 'publishers', 'en_pubs', 'release_frequency', 'chapters']\n",
        "\n",
        "df = df.drop(columns=columns_to_remove)\n"
      ],
      "metadata": {
        "id": "Z0JiHRghaiIC"
      },
      "execution_count": 50,
      "outputs": []
    },
    {
      "cell_type": "code",
      "source": [
        "df.head()"
      ],
      "metadata": {
        "id": "srLlEJQwwckd",
        "colab": {
          "base_uri": "https://localhost:8080/",
          "height": 625
        },
        "outputId": "d3253a4c-9cbe-470e-bd12-c48dca6961c9"
      },
      "execution_count": 51,
      "outputs": [
        {
          "output_type": "execute_result",
          "data": {
            "text/plain": [
              "   novel_id                                              title  \\\n",
              "0     64494  After the Breakup, I Went Viral in the Enterta...   \n",
              "1     43962                          Mahou Sekai no Monogatari   \n",
              "2     25506                                    I am a Good Man   \n",
              "3     50373                          Scum Girl Practice Manual   \n",
              "4     48291  Unable to Divorce After Signing the Marriage C...   \n",
              "\n",
              "         showtype                                             genres  \\\n",
              "0  Web Novel (CN)            [Drama, Fantasy, Romance, Supernatural]   \n",
              "1  Web Novel (JP)                         [Fantasy, Romance, Shoujo]   \n",
              "2  Web Novel (CN)  [Action, Adventure, Fantasy, Historical, Roman...   \n",
              "3  Web Novel (CN)                     [Romance, School Life, Shoujo]   \n",
              "4  Web Novel (CN)  [Psychological, Romance, Shounen Ai, Slice of ...   \n",
              "\n",
              "                                                tags  \\\n",
              "0  [Amnesia, Beautiful Female Lead, Clever Protag...   \n",
              "1  [Adventurers, Elemental Magic, Familiars, Fema...   \n",
              "2  [Beautiful Female Lead, Businessmen, Childcare...   \n",
              "3  [Female Protagonist, Modern Day, Short Story, ...   \n",
              "4  [Arranged Marriage, Calm Protagonist, Cold Pro...   \n",
              "\n",
              "                                         description  \\\n",
              "0  Luo Ning was a cannon fodder, a female support...   \n",
              "1  A world where magic exists.\\nThis is the story...   \n",
              "2  To sum up in a sentence, transmigrating to dif...   \n",
              "3                  My goal is, to be a scum woman.\\n   \n",
              "4  Lin You He excelled in everything –  his looks...   \n",
              "\n",
              "                                      related_series  \\\n",
              "0                 {'related_series': [], 'total': 0}   \n",
              "1  {'related_series': [{'title': 'I Want to Be a ...   \n",
              "2                 {'related_series': [], 'total': 0}   \n",
              "3                 {'related_series': [], 'total': 0}   \n",
              "4                 {'related_series': [], 'total': 0}   \n",
              "\n",
              "                                     recommendations  \\\n",
              "0                 {'recomendations': [], 'total': 0}   \n",
              "1                 {'recomendations': [], 'total': 0}   \n",
              "2  {'recomendations': [{'recommended_user_count':...   \n",
              "3  {'recomendations': [{'recommended_user_count':...   \n",
              "4  {'recomendations': [{'recommended_user_count':...   \n",
              "\n",
              "                                recommendation_lists                 rating  \\\n",
              "0  {'list': [{'title': 'Cross' Library (2)', 'url...   (3.3 / 5.0, 4 votes)   \n",
              "1                           {'list': [], 'total': 0}   (4.0 / 5.0, 4 votes)   \n",
              "2  {'list': [{'title': 'Male mc QT/BG- Grant my w...  (4.0 / 5.0, 40 votes)   \n",
              "3  {'list': [{'title': 'Beautiful reads [BG]', 'u...   (2.8 / 5.0, 5 votes)   \n",
              "4  {'list': [{'title': 'Really whipped older love...  (4.0 / 5.0, 64 votes)   \n",
              "\n",
              "   language                   authors  year  \\\n",
              "0   Chinese     [Lan Bai Ge Zi, 蓝白格子]  2020   \n",
              "1  Japanese                [Mako, まこ]  2020   \n",
              "2   Chinese                     [甘米儿]  2018   \n",
              "3   Chinese                      [左乐]  2019   \n",
              "4   Chinese  [Bai Hu Qian Deng, 百户千灯]  2019   \n",
              "\n",
              "                                          status_coo weekly_rank monthly_rank  \\\n",
              "0  Complete (722 chapters; 506 main, rest side st...        #683         #513   \n",
              "1                              35 Chapters (Ongoing)       #2000        #2000   \n",
              "2                           603 Chapters (Completed)       #2000        #8032   \n",
              "3                             8 Chapters (Completed)       #2000        #2000   \n",
              "4      99 Main + 12 Extras\\n111 Chapters (Completed)       #1615        #1755   \n",
              "\n",
              "  all_time_rank monthly_rank_reading_list all_time_rank_reading_list  \\\n",
              "0        #11853                     #2628                     #12694   \n",
              "1        #15002                    #13957                     #13903   \n",
              "2         #4970                     #9052                      #6191   \n",
              "3        #14045                    #13211                     #14699   \n",
              "4         #3528                     #2126                      #3208   \n",
              "\n",
              "  total_reading_list_rank  \n",
              "0                     225  \n",
              "1                     151  \n",
              "2                    1096  \n",
              "3                     104  \n",
              "4                    2467  "
            ],
            "text/html": [
              "\n",
              "  <div id=\"df-0e429de8-a827-45cc-87ba-e8ddd80ab2a2\" class=\"colab-df-container\">\n",
              "    <div>\n",
              "<style scoped>\n",
              "    .dataframe tbody tr th:only-of-type {\n",
              "        vertical-align: middle;\n",
              "    }\n",
              "\n",
              "    .dataframe tbody tr th {\n",
              "        vertical-align: top;\n",
              "    }\n",
              "\n",
              "    .dataframe thead th {\n",
              "        text-align: right;\n",
              "    }\n",
              "</style>\n",
              "<table border=\"1\" class=\"dataframe\">\n",
              "  <thead>\n",
              "    <tr style=\"text-align: right;\">\n",
              "      <th></th>\n",
              "      <th>novel_id</th>\n",
              "      <th>title</th>\n",
              "      <th>showtype</th>\n",
              "      <th>genres</th>\n",
              "      <th>tags</th>\n",
              "      <th>description</th>\n",
              "      <th>related_series</th>\n",
              "      <th>recommendations</th>\n",
              "      <th>recommendation_lists</th>\n",
              "      <th>rating</th>\n",
              "      <th>language</th>\n",
              "      <th>authors</th>\n",
              "      <th>year</th>\n",
              "      <th>status_coo</th>\n",
              "      <th>weekly_rank</th>\n",
              "      <th>monthly_rank</th>\n",
              "      <th>all_time_rank</th>\n",
              "      <th>monthly_rank_reading_list</th>\n",
              "      <th>all_time_rank_reading_list</th>\n",
              "      <th>total_reading_list_rank</th>\n",
              "    </tr>\n",
              "  </thead>\n",
              "  <tbody>\n",
              "    <tr>\n",
              "      <th>0</th>\n",
              "      <td>64494</td>\n",
              "      <td>After the Breakup, I Went Viral in the Enterta...</td>\n",
              "      <td>Web Novel (CN)</td>\n",
              "      <td>[Drama, Fantasy, Romance, Supernatural]</td>\n",
              "      <td>[Amnesia, Beautiful Female Lead, Clever Protag...</td>\n",
              "      <td>Luo Ning was a cannon fodder, a female support...</td>\n",
              "      <td>{'related_series': [], 'total': 0}</td>\n",
              "      <td>{'recomendations': [], 'total': 0}</td>\n",
              "      <td>{'list': [{'title': 'Cross' Library (2)', 'url...</td>\n",
              "      <td>(3.3 / 5.0, 4 votes)</td>\n",
              "      <td>Chinese</td>\n",
              "      <td>[Lan Bai Ge Zi, 蓝白格子]</td>\n",
              "      <td>2020</td>\n",
              "      <td>Complete (722 chapters; 506 main, rest side st...</td>\n",
              "      <td>#683</td>\n",
              "      <td>#513</td>\n",
              "      <td>#11853</td>\n",
              "      <td>#2628</td>\n",
              "      <td>#12694</td>\n",
              "      <td>225</td>\n",
              "    </tr>\n",
              "    <tr>\n",
              "      <th>1</th>\n",
              "      <td>43962</td>\n",
              "      <td>Mahou Sekai no Monogatari</td>\n",
              "      <td>Web Novel (JP)</td>\n",
              "      <td>[Fantasy, Romance, Shoujo]</td>\n",
              "      <td>[Adventurers, Elemental Magic, Familiars, Fema...</td>\n",
              "      <td>A world where magic exists.\\nThis is the story...</td>\n",
              "      <td>{'related_series': [{'title': 'I Want to Be a ...</td>\n",
              "      <td>{'recomendations': [], 'total': 0}</td>\n",
              "      <td>{'list': [], 'total': 0}</td>\n",
              "      <td>(4.0 / 5.0, 4 votes)</td>\n",
              "      <td>Japanese</td>\n",
              "      <td>[Mako, まこ]</td>\n",
              "      <td>2020</td>\n",
              "      <td>35 Chapters (Ongoing)</td>\n",
              "      <td>#2000</td>\n",
              "      <td>#2000</td>\n",
              "      <td>#15002</td>\n",
              "      <td>#13957</td>\n",
              "      <td>#13903</td>\n",
              "      <td>151</td>\n",
              "    </tr>\n",
              "    <tr>\n",
              "      <th>2</th>\n",
              "      <td>25506</td>\n",
              "      <td>I am a Good Man</td>\n",
              "      <td>Web Novel (CN)</td>\n",
              "      <td>[Action, Adventure, Fantasy, Historical, Roman...</td>\n",
              "      <td>[Beautiful Female Lead, Businessmen, Childcare...</td>\n",
              "      <td>To sum up in a sentence, transmigrating to dif...</td>\n",
              "      <td>{'related_series': [], 'total': 0}</td>\n",
              "      <td>{'recomendations': [{'recommended_user_count':...</td>\n",
              "      <td>{'list': [{'title': 'Male mc QT/BG- Grant my w...</td>\n",
              "      <td>(4.0 / 5.0, 40 votes)</td>\n",
              "      <td>Chinese</td>\n",
              "      <td>[甘米儿]</td>\n",
              "      <td>2018</td>\n",
              "      <td>603 Chapters (Completed)</td>\n",
              "      <td>#2000</td>\n",
              "      <td>#8032</td>\n",
              "      <td>#4970</td>\n",
              "      <td>#9052</td>\n",
              "      <td>#6191</td>\n",
              "      <td>1096</td>\n",
              "    </tr>\n",
              "    <tr>\n",
              "      <th>3</th>\n",
              "      <td>50373</td>\n",
              "      <td>Scum Girl Practice Manual</td>\n",
              "      <td>Web Novel (CN)</td>\n",
              "      <td>[Romance, School Life, Shoujo]</td>\n",
              "      <td>[Female Protagonist, Modern Day, Short Story, ...</td>\n",
              "      <td>My goal is, to be a scum woman.\\n</td>\n",
              "      <td>{'related_series': [], 'total': 0}</td>\n",
              "      <td>{'recomendations': [{'recommended_user_count':...</td>\n",
              "      <td>{'list': [{'title': 'Beautiful reads [BG]', 'u...</td>\n",
              "      <td>(2.8 / 5.0, 5 votes)</td>\n",
              "      <td>Chinese</td>\n",
              "      <td>[左乐]</td>\n",
              "      <td>2019</td>\n",
              "      <td>8 Chapters (Completed)</td>\n",
              "      <td>#2000</td>\n",
              "      <td>#2000</td>\n",
              "      <td>#14045</td>\n",
              "      <td>#13211</td>\n",
              "      <td>#14699</td>\n",
              "      <td>104</td>\n",
              "    </tr>\n",
              "    <tr>\n",
              "      <th>4</th>\n",
              "      <td>48291</td>\n",
              "      <td>Unable to Divorce After Signing the Marriage C...</td>\n",
              "      <td>Web Novel (CN)</td>\n",
              "      <td>[Psychological, Romance, Shounen Ai, Slice of ...</td>\n",
              "      <td>[Arranged Marriage, Calm Protagonist, Cold Pro...</td>\n",
              "      <td>Lin You He excelled in everything –  his looks...</td>\n",
              "      <td>{'related_series': [], 'total': 0}</td>\n",
              "      <td>{'recomendations': [{'recommended_user_count':...</td>\n",
              "      <td>{'list': [{'title': 'Really whipped older love...</td>\n",
              "      <td>(4.0 / 5.0, 64 votes)</td>\n",
              "      <td>Chinese</td>\n",
              "      <td>[Bai Hu Qian Deng, 百户千灯]</td>\n",
              "      <td>2019</td>\n",
              "      <td>99 Main + 12 Extras\\n111 Chapters (Completed)</td>\n",
              "      <td>#1615</td>\n",
              "      <td>#1755</td>\n",
              "      <td>#3528</td>\n",
              "      <td>#2126</td>\n",
              "      <td>#3208</td>\n",
              "      <td>2467</td>\n",
              "    </tr>\n",
              "  </tbody>\n",
              "</table>\n",
              "</div>\n",
              "    <div class=\"colab-df-buttons\">\n",
              "\n",
              "  <div class=\"colab-df-container\">\n",
              "    <button class=\"colab-df-convert\" onclick=\"convertToInteractive('df-0e429de8-a827-45cc-87ba-e8ddd80ab2a2')\"\n",
              "            title=\"Convert this dataframe to an interactive table.\"\n",
              "            style=\"display:none;\">\n",
              "\n",
              "  <svg xmlns=\"http://www.w3.org/2000/svg\" height=\"24px\" viewBox=\"0 -960 960 960\">\n",
              "    <path d=\"M120-120v-720h720v720H120Zm60-500h600v-160H180v160Zm220 220h160v-160H400v160Zm0 220h160v-160H400v160ZM180-400h160v-160H180v160Zm440 0h160v-160H620v160ZM180-180h160v-160H180v160Zm440 0h160v-160H620v160Z\"/>\n",
              "  </svg>\n",
              "    </button>\n",
              "\n",
              "  <style>\n",
              "    .colab-df-container {\n",
              "      display:flex;\n",
              "      gap: 12px;\n",
              "    }\n",
              "\n",
              "    .colab-df-convert {\n",
              "      background-color: #E8F0FE;\n",
              "      border: none;\n",
              "      border-radius: 50%;\n",
              "      cursor: pointer;\n",
              "      display: none;\n",
              "      fill: #1967D2;\n",
              "      height: 32px;\n",
              "      padding: 0 0 0 0;\n",
              "      width: 32px;\n",
              "    }\n",
              "\n",
              "    .colab-df-convert:hover {\n",
              "      background-color: #E2EBFA;\n",
              "      box-shadow: 0px 1px 2px rgba(60, 64, 67, 0.3), 0px 1px 3px 1px rgba(60, 64, 67, 0.15);\n",
              "      fill: #174EA6;\n",
              "    }\n",
              "\n",
              "    .colab-df-buttons div {\n",
              "      margin-bottom: 4px;\n",
              "    }\n",
              "\n",
              "    [theme=dark] .colab-df-convert {\n",
              "      background-color: #3B4455;\n",
              "      fill: #D2E3FC;\n",
              "    }\n",
              "\n",
              "    [theme=dark] .colab-df-convert:hover {\n",
              "      background-color: #434B5C;\n",
              "      box-shadow: 0px 1px 3px 1px rgba(0, 0, 0, 0.15);\n",
              "      filter: drop-shadow(0px 1px 2px rgba(0, 0, 0, 0.3));\n",
              "      fill: #FFFFFF;\n",
              "    }\n",
              "  </style>\n",
              "\n",
              "    <script>\n",
              "      const buttonEl =\n",
              "        document.querySelector('#df-0e429de8-a827-45cc-87ba-e8ddd80ab2a2 button.colab-df-convert');\n",
              "      buttonEl.style.display =\n",
              "        google.colab.kernel.accessAllowed ? 'block' : 'none';\n",
              "\n",
              "      async function convertToInteractive(key) {\n",
              "        const element = document.querySelector('#df-0e429de8-a827-45cc-87ba-e8ddd80ab2a2');\n",
              "        const dataTable =\n",
              "          await google.colab.kernel.invokeFunction('convertToInteractive',\n",
              "                                                    [key], {});\n",
              "        if (!dataTable) return;\n",
              "\n",
              "        const docLinkHtml = 'Like what you see? Visit the ' +\n",
              "          '<a target=\"_blank\" href=https://colab.research.google.com/notebooks/data_table.ipynb>data table notebook</a>'\n",
              "          + ' to learn more about interactive tables.';\n",
              "        element.innerHTML = '';\n",
              "        dataTable['output_type'] = 'display_data';\n",
              "        await google.colab.output.renderOutput(dataTable, element);\n",
              "        const docLink = document.createElement('div');\n",
              "        docLink.innerHTML = docLinkHtml;\n",
              "        element.appendChild(docLink);\n",
              "      }\n",
              "    </script>\n",
              "  </div>\n",
              "\n",
              "\n",
              "<div id=\"df-f6796aef-ccc4-4ed8-947b-a97ffb176c31\">\n",
              "  <button class=\"colab-df-quickchart\" onclick=\"quickchart('df-f6796aef-ccc4-4ed8-947b-a97ffb176c31')\"\n",
              "            title=\"Suggest charts.\"\n",
              "            style=\"display:none;\">\n",
              "\n",
              "<svg xmlns=\"http://www.w3.org/2000/svg\" height=\"24px\"viewBox=\"0 0 24 24\"\n",
              "     width=\"24px\">\n",
              "    <g>\n",
              "        <path d=\"M19 3H5c-1.1 0-2 .9-2 2v14c0 1.1.9 2 2 2h14c1.1 0 2-.9 2-2V5c0-1.1-.9-2-2-2zM9 17H7v-7h2v7zm4 0h-2V7h2v10zm4 0h-2v-4h2v4z\"/>\n",
              "    </g>\n",
              "</svg>\n",
              "  </button>\n",
              "\n",
              "<style>\n",
              "  .colab-df-quickchart {\n",
              "      --bg-color: #E8F0FE;\n",
              "      --fill-color: #1967D2;\n",
              "      --hover-bg-color: #E2EBFA;\n",
              "      --hover-fill-color: #174EA6;\n",
              "      --disabled-fill-color: #AAA;\n",
              "      --disabled-bg-color: #DDD;\n",
              "  }\n",
              "\n",
              "  [theme=dark] .colab-df-quickchart {\n",
              "      --bg-color: #3B4455;\n",
              "      --fill-color: #D2E3FC;\n",
              "      --hover-bg-color: #434B5C;\n",
              "      --hover-fill-color: #FFFFFF;\n",
              "      --disabled-bg-color: #3B4455;\n",
              "      --disabled-fill-color: #666;\n",
              "  }\n",
              "\n",
              "  .colab-df-quickchart {\n",
              "    background-color: var(--bg-color);\n",
              "    border: none;\n",
              "    border-radius: 50%;\n",
              "    cursor: pointer;\n",
              "    display: none;\n",
              "    fill: var(--fill-color);\n",
              "    height: 32px;\n",
              "    padding: 0;\n",
              "    width: 32px;\n",
              "  }\n",
              "\n",
              "  .colab-df-quickchart:hover {\n",
              "    background-color: var(--hover-bg-color);\n",
              "    box-shadow: 0 1px 2px rgba(60, 64, 67, 0.3), 0 1px 3px 1px rgba(60, 64, 67, 0.15);\n",
              "    fill: var(--button-hover-fill-color);\n",
              "  }\n",
              "\n",
              "  .colab-df-quickchart-complete:disabled,\n",
              "  .colab-df-quickchart-complete:disabled:hover {\n",
              "    background-color: var(--disabled-bg-color);\n",
              "    fill: var(--disabled-fill-color);\n",
              "    box-shadow: none;\n",
              "  }\n",
              "\n",
              "  .colab-df-spinner {\n",
              "    border: 2px solid var(--fill-color);\n",
              "    border-color: transparent;\n",
              "    border-bottom-color: var(--fill-color);\n",
              "    animation:\n",
              "      spin 1s steps(1) infinite;\n",
              "  }\n",
              "\n",
              "  @keyframes spin {\n",
              "    0% {\n",
              "      border-color: transparent;\n",
              "      border-bottom-color: var(--fill-color);\n",
              "      border-left-color: var(--fill-color);\n",
              "    }\n",
              "    20% {\n",
              "      border-color: transparent;\n",
              "      border-left-color: var(--fill-color);\n",
              "      border-top-color: var(--fill-color);\n",
              "    }\n",
              "    30% {\n",
              "      border-color: transparent;\n",
              "      border-left-color: var(--fill-color);\n",
              "      border-top-color: var(--fill-color);\n",
              "      border-right-color: var(--fill-color);\n",
              "    }\n",
              "    40% {\n",
              "      border-color: transparent;\n",
              "      border-right-color: var(--fill-color);\n",
              "      border-top-color: var(--fill-color);\n",
              "    }\n",
              "    60% {\n",
              "      border-color: transparent;\n",
              "      border-right-color: var(--fill-color);\n",
              "    }\n",
              "    80% {\n",
              "      border-color: transparent;\n",
              "      border-right-color: var(--fill-color);\n",
              "      border-bottom-color: var(--fill-color);\n",
              "    }\n",
              "    90% {\n",
              "      border-color: transparent;\n",
              "      border-bottom-color: var(--fill-color);\n",
              "    }\n",
              "  }\n",
              "</style>\n",
              "\n",
              "  <script>\n",
              "    async function quickchart(key) {\n",
              "      const quickchartButtonEl =\n",
              "        document.querySelector('#' + key + ' button');\n",
              "      quickchartButtonEl.disabled = true;  // To prevent multiple clicks.\n",
              "      quickchartButtonEl.classList.add('colab-df-spinner');\n",
              "      try {\n",
              "        const charts = await google.colab.kernel.invokeFunction(\n",
              "            'suggestCharts', [key], {});\n",
              "      } catch (error) {\n",
              "        console.error('Error during call to suggestCharts:', error);\n",
              "      }\n",
              "      quickchartButtonEl.classList.remove('colab-df-spinner');\n",
              "      quickchartButtonEl.classList.add('colab-df-quickchart-complete');\n",
              "    }\n",
              "    (() => {\n",
              "      let quickchartButtonEl =\n",
              "        document.querySelector('#df-f6796aef-ccc4-4ed8-947b-a97ffb176c31 button');\n",
              "      quickchartButtonEl.style.display =\n",
              "        google.colab.kernel.accessAllowed ? 'block' : 'none';\n",
              "    })();\n",
              "  </script>\n",
              "</div>\n",
              "    </div>\n",
              "  </div>\n"
            ]
          },
          "metadata": {},
          "execution_count": 51
        }
      ]
    },
    {
      "cell_type": "code",
      "source": [
        "# Fill missing language values with \"English\"\n",
        "df['language'] = df['language'].fillna('English')\n",
        "df.isnull().sum()"
      ],
      "metadata": {
        "id": "0bxU64irxAaX",
        "colab": {
          "base_uri": "https://localhost:8080/"
        },
        "outputId": "5f845ac4-3d63-4c8a-e005-a839c4324c7c"
      },
      "execution_count": 52,
      "outputs": [
        {
          "output_type": "execute_result",
          "data": {
            "text/plain": [
              "novel_id                      0\n",
              "title                         0\n",
              "showtype                      0\n",
              "genres                        0\n",
              "tags                          0\n",
              "description                   0\n",
              "related_series                0\n",
              "recommendations               0\n",
              "recommendation_lists          0\n",
              "rating                        0\n",
              "language                      0\n",
              "authors                       0\n",
              "year                          0\n",
              "status_coo                    0\n",
              "weekly_rank                   0\n",
              "monthly_rank                  0\n",
              "all_time_rank                 0\n",
              "monthly_rank_reading_list     0\n",
              "all_time_rank_reading_list    0\n",
              "total_reading_list_rank       0\n",
              "dtype: int64"
            ]
          },
          "metadata": {},
          "execution_count": 52
        }
      ]
    },
    {
      "cell_type": "code",
      "source": [],
      "metadata": {
        "id": "gWHVfpME7naG"
      },
      "execution_count": 52,
      "outputs": []
    },
    {
      "cell_type": "code",
      "source": [
        "\n",
        "def preprocess_text(text):\n",
        "    # Example text preprocessing steps:\n",
        "    # 1. Convert to lowercase\n",
        "    text = text.lower()\n",
        "    # 2. Remove special characters\n",
        "    text = ''.join(e for e in text if (e.isalnum() or e.isspace()))\n",
        "    # 3. Tokenization (split into words)\n",
        "    tokens = text.split()\n",
        "    return ' '.join(tokens)"
      ],
      "metadata": {
        "id": "H7QR7w-Tx2T6"
      },
      "execution_count": 53,
      "outputs": []
    },
    {
      "cell_type": "code",
      "source": [
        "# Apply text preprocessing to the 'description' column\n",
        "df['description'] = df['description'].apply(preprocess_text)\n",
        "\n",
        "# Save the preprocessed DataFrame to a new CSV file\n",
        "df.to_csv('preprocessed_novels.csv', index=False)\n",
        "\n",
        "\n",
        "\n"
      ],
      "metadata": {
        "id": "O6b8iyaEy8br"
      },
      "execution_count": 54,
      "outputs": []
    },
    {
      "cell_type": "code",
      "source": [
        "from sklearn.feature_extraction.text import TfidfVectorizer\n",
        "from sklearn.metrics.pairwise import linear_kernel\n",
        "\n",
        "# Step 1: Create a TF-IDF vectorizer for text data (descriptions, genres, tags)\n",
        "tfidf_vectorizer = TfidfVectorizer(stop_words='english')\n",
        "\n",
        "# Define the text columns to include\n",
        "text_columns = ['title','description', 'genres','showtype', 'tags', 'related_series', 'language', 'authors']\n",
        "\n",
        "# Ensure these columns are treated as strings (text)\n",
        "df[text_columns] = df[text_columns].astype(str)\n",
        "\n",
        "# Combine text columns into one\n",
        "df['text_data'] = df[text_columns].apply(lambda x: ' '.join(x), axis=1)\n",
        "\n",
        "# Fit the TF-IDF vectorizer on the text data\n",
        "tfidf_matrix = tfidf_vectorizer.fit_transform(df['text_data'])\n"
      ],
      "metadata": {
        "id": "ZSjmhjMCzLRL"
      },
      "execution_count": 55,
      "outputs": []
    },
    {
      "cell_type": "code",
      "source": [
        "# Step 2: Compute the cosine similarity between items (content-based filtering)\n",
        "cosine_sim = linear_kernel(tfidf_matrix, tfidf_matrix)\n"
      ],
      "metadata": {
        "id": "wiXhqRha1WGF"
      },
      "execution_count": 56,
      "outputs": []
    },
    {
      "cell_type": "code",
      "source": [
        "from fuzzywuzzy import fuzz\n",
        "from fuzzywuzzy import process\n",
        "\n",
        "# ...\n",
        "\n",
        "def get_recommendations(title, cosine_sim=cosine_sim, df=df):\n",
        "    # Perform fuzzy matching to find the closest matching title\n",
        "    matched_title_tuple = process.extractOne(title, df['title'])\n",
        "\n",
        "    if matched_title_tuple is not None and len(matched_title_tuple) == 2:\n",
        "        # Extract the matched title and its similarity score\n",
        "        match_title, score = matched_title_tuple\n",
        "\n",
        "        if score < 90:\n",
        "            return \"No close match found.\"\n",
        "\n",
        "        # Get the index of the closest matching novel\n",
        "        idx = df[df['title'] == match_title].index[0]\n",
        "\n",
        "        # Get the pairwise similarity scores of all novels with the input novel\n",
        "        sim_scores = list(enumerate(cosine_sim[idx]))\n",
        "\n",
        "        # Sort the novels based on the similarity scores\n",
        "        sim_scores = sorted(sim_scores, key=lambda x: x[1], reverse=True)\n",
        "\n",
        "        # Get the scores of the 10 most similar novels\n",
        "        sim_scores = sim_scores[1:11]  # Exclude the first item (itself)\n",
        "\n",
        "        # Get the novel indices\n",
        "        novel_indices = [i[0] for i in sim_scores]\n",
        "\n",
        "        # Return the top 10 most similar novels\n",
        "        return df['title'].iloc[novel_indices]\n",
        "    else:\n",
        "        return \"No close match found.\"\n"
      ],
      "metadata": {
        "id": "QQteNELc1WZB"
      },
      "execution_count": 57,
      "outputs": []
    },
    {
      "cell_type": "code",
      "source": [
        "# Example: Get recommendations for a novel\n",
        "recommended_novels = get_recommendations(\"I am the Monarch\")\n",
        "print(recommended_novels)"
      ],
      "metadata": {
        "colab": {
          "base_uri": "https://localhost:8080/"
        },
        "id": "As-zf44kkyQl",
        "outputId": "0a3c8ffe-e075-4db4-9e1a-4137fa0ef251"
      },
      "execution_count": 58,
      "outputs": [
        {
          "output_type": "stream",
          "name": "stdout",
          "text": [
            "No close match found.\n"
          ]
        }
      ]
    },
    {
      "cell_type": "code",
      "source": [],
      "metadata": {
        "id": "mf-yc0pokyTE"
      },
      "execution_count": 58,
      "outputs": []
    },
    {
      "cell_type": "code",
      "source": [
        "\n",
        "\n",
        "\n",
        "\n",
        "\n",
        "\n",
        "\n",
        "\n",
        "-predictions = []\n",
        "\n",
        "for index, row in df.iterrows():\n",
        "    novel_title = row['title']\n",
        "    recommendations = get_recommendations(novel_title)\n",
        "    predictions.append({\n",
        "        'novel_title': novel_title,\n",
        "        'recommendations': recommendations.tolist()\n",
        "    })\n",
        "\n",
        "# The 'predictions' list will contain recommendations for each novel in the testing dataset.\n",
        "# Convert the 'predictions' list to a DataFrame\n",
        "predictions_df = pd.DataFrame(predictions)\n",
        "\n",
        "# Save the recommendations to a CSV file\n",
        "predictions_df.to_csv('novel_recommendations2.csv', index=False)\n",
        "\n",
        "\n",
        "\n",
        "\n"
      ],
      "metadata": {
        "colab": {
          "base_uri": "https://localhost:8080/",
          "height": 247
        },
        "id": "I7nD1CBNkyoC",
        "outputId": "a6e2468b-54da-4b14-d130-7c01373940e0"
      },
      "execution_count": 59,
      "outputs": [
        {
          "output_type": "error",
          "ename": "AttributeError",
          "evalue": "ignored",
          "traceback": [
            "\u001b[0;31m---------------------------------------------------------------------------\u001b[0m",
            "\u001b[0;31mAttributeError\u001b[0m                            Traceback (most recent call last)",
            "\u001b[0;32m<ipython-input-59-863860d46542>\u001b[0m in \u001b[0;36m<cell line: 3>\u001b[0;34m()\u001b[0m\n\u001b[1;32m      6\u001b[0m     predictions.append({\n\u001b[1;32m      7\u001b[0m         \u001b[0;34m'novel_title'\u001b[0m\u001b[0;34m:\u001b[0m \u001b[0mnovel_title\u001b[0m\u001b[0;34m,\u001b[0m\u001b[0;34m\u001b[0m\u001b[0;34m\u001b[0m\u001b[0m\n\u001b[0;32m----> 8\u001b[0;31m         \u001b[0;34m'recommendations'\u001b[0m\u001b[0;34m:\u001b[0m \u001b[0mrecommendations\u001b[0m\u001b[0;34m.\u001b[0m\u001b[0mtolist\u001b[0m\u001b[0;34m(\u001b[0m\u001b[0;34m)\u001b[0m\u001b[0;34m\u001b[0m\u001b[0;34m\u001b[0m\u001b[0m\n\u001b[0m\u001b[1;32m      9\u001b[0m     })\n\u001b[1;32m     10\u001b[0m \u001b[0;34m\u001b[0m\u001b[0m\n",
            "\u001b[0;31mAttributeError\u001b[0m: 'str' object has no attribute 'tolist'"
          ]
        }
      ]
    },
    {
      "cell_type": "code",
      "source": [
        "predictions = []\n",
        "\n",
        "for index, row in df.iterrows():\n",
        "    novel_title = row['title']\n",
        "    recommendations = get_recommendations(novel_title)\n",
        "    predictions.append({\n",
        "        'novel_title': novel_title,\n",
        "        'recommendations': recommendations.tolist()\n",
        "    })\n",
        "\n",
        "# The 'predictions' list will contain recommendations for each novel in the testing dataset.\n",
        "# Convert the 'predictions' list to a DataFrame\n",
        "predictions_df = pd.DataFrame(predictions)\n",
        "\n",
        "# Save the recommendations to a CSV file\n",
        "predictions_df.to_csv('novel_recommendations.csv', index=False)\n",
        "\n",
        "\n",
        "\n",
        "\n"
      ],
      "metadata": {
        "id": "Nt7bUS-a1WlR"
      },
      "execution_count": null,
      "outputs": []
    },
    {
      "cell_type": "code",
      "source": [],
      "metadata": {
        "id": "naGGdRU1hVVK"
      },
      "execution_count": null,
      "outputs": []
    },
    {
      "cell_type": "code",
      "source": [],
      "metadata": {
        "id": "1BALmTbUhVmm"
      },
      "execution_count": null,
      "outputs": []
    },
    {
      "cell_type": "code",
      "source": [
        "# Calculate the average RMSE\n",
        "average_rmse = np.mean(predictions)\n",
        "print(\"Average RMSE:\", average_rmse)"
      ],
      "metadata": {
        "id": "Cg0aoLNQ2kqK"
      },
      "execution_count": null,
      "outputs": []
    },
    {
      "cell_type": "code",
      "source": [
        "!pip install fuzzywuzzy"
      ],
      "metadata": {
        "id": "IwAngdnyhWXs"
      },
      "execution_count": null,
      "outputs": []
    },
    {
      "cell_type": "code",
      "source": [],
      "metadata": {
        "id": "8vOCAcJXhZXL"
      },
      "execution_count": null,
      "outputs": []
    }
  ]
}